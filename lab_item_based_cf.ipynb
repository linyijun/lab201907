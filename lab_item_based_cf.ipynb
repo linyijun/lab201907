{
 "cells": [
  {
   "cell_type": "code",
   "execution_count": 2,
   "metadata": {},
   "outputs": [],
   "source": [
    "import os\n",
    "import pandas as pd\n",
    "import numpy as np"
   ]
  },
  {
   "cell_type": "markdown",
   "metadata": {},
   "source": [
    "### Loading datasets"
   ]
  },
  {
   "cell_type": "code",
   "execution_count": 7,
   "metadata": {},
   "outputs": [],
   "source": [
    "data_path = './data'\n",
    "\n",
    "# define file path\n",
    "train_file = os.path.join(data_path, 'review_train.csv')\n",
    "test_file = os.path.join(data_path, 'review_test.csv')\n",
    "weight_matrix_file = os.path.join(data_path, 'weight_matrix.csv')\n"
   ]
  },
  {
   "cell_type": "code",
   "execution_count": 8,
   "metadata": {},
   "outputs": [],
   "source": [
    "# read datasets\n",
    "train_data = pd.read_csv(train_file)\n",
    "test_data = pd.read_csv(test_file)\n",
    "weight_matrix = pd.read_csv(weight_matrix_file)\n"
   ]
  },
  {
   "cell_type": "markdown",
   "metadata": {},
   "source": [
    "### Item-based CF Prediction"
   ]
  },
  {
   "cell_type": "code",
   "execution_count": 33,
   "metadata": {},
   "outputs": [],
   "source": [
    "# convert the review data into a dictionary {(uid, bid): rating}\n",
    "review_dict = {(row[0], row[1]): row[2] for row in train_data.values.tolist()}\n",
    "\n",
    "# map each user_id to a list of business {user_id: list[business_ids]}\n",
    "user_groups = train_data.groupby('uid')\n",
    "user_business_dict = {uid: list(user_groups.get_group(uid)['bid']) for uid in user_groups.groups}\n",
    "\n",
    "# transfer weight_matrix to a dictionary {(bid1, bid2): weight}\n",
    "weight_matrix_dict = {(row[0], row[1]): row[2] for row in weight_matrix.values.tolist()}\n"
   ]
  },
  {
   "cell_type": "code",
   "execution_count": 34,
   "metadata": {},
   "outputs": [],
   "source": [
    "# find the most N correlated business according to the weight matrix\n",
    "\n",
    "def find_n_nearest_business(target_bid, neighbor_business, n=3):\n",
    "    \n",
    "    ### pseudocode ###\n",
    "    \n",
    "    # for bid in neighbor_business:\n",
    "    #     get the correlation between the target_bid and bid\n",
    "    \n",
    "    # find the most N correlated business\n",
    "    # return top N business\n"
   ]
  },
  {
   "cell_type": "code",
   "execution_count": 35,
   "metadata": {},
   "outputs": [],
   "source": [
    "# compute weighted average over neighborhood set\n",
    "\n",
    "def weighted_average_prediction(target_user, target_business, nearest_business_weight):\n",
    "    \n",
    "    ### pseudocode ###\n",
    "    \n",
    "    # weighted_sum, sum_weight = 0.0, 0.0\n",
    "    \n",
    "    # for item in nearest_business_weight:  \n",
    "    #     bid, weight = item[0], item[1]\n",
    "    #     rating = the rating of (target_user, bid)\n",
    "    #     weighted_sum += rating * weight\n",
    "    #     sum_weight += weight\n",
    "    \n",
    "    # return weighted_sum / sum_weight \n"
   ]
  },
  {
   "cell_type": "code",
   "execution_count": 36,
   "metadata": {},
   "outputs": [],
   "source": [
    "# make prediction for each given (user, business) pair in the testing data\n",
    "\n",
    "results = []\n",
    "NEIGHBOR_THRE = 3\n",
    "\n",
    "for pair in test_data.values.tolist():\n",
    "    \n",
    "    target_user, target_business = pair[0], pair[1]\n",
    "    neighbor_business = user_business_dict.get(target_user)\n",
    "    \n",
    "    ### pseudocode ###\n",
    "    # call find_n_nearest_business()\n",
    "    # call weighted_average_prediction()\n",
    "    \n",
    "    # results.append([target_user, target_business, prediction])\n"
   ]
  },
  {
   "cell_type": "code",
   "execution_count": null,
   "metadata": {},
   "outputs": [],
   "source": [
    "# finalize the results\n",
    "# fill the missing predictions with average values\n",
    "\n",
    "avg_rating = sum(list(train_data['rating'])) / len(train_data)\n",
    "\n",
    "def quick_check(x):\n",
    "    if x > 5:\n",
    "        return 5.0\n",
    "    elif x < 1:\n",
    "        return 1.0\n",
    "    else:\n",
    "        return x\n",
    "\n",
    "final_results = []\n",
    "\n",
    "for result in results:\n",
    "    uid, bid, prediction = result[0], result[1], result[2]\n",
    "    prediction = avg_rating if prediction == 0.0 else prediction\n",
    "    prediction = quick_check(prediction)\n",
    "    final_results.append([uid, bid, prediction])\n"
   ]
  },
  {
   "cell_type": "code",
   "execution_count": 37,
   "metadata": {},
   "outputs": [],
   "source": [
    "# write the results to a CSV file\n",
    "\n",
    "results_df = pd.DataFrame(final_results, columns=['uid', 'bid', 'prediction'])\n",
    "results_file_path = os.path.join(data_path, 'review_prediction.csv')\n",
    "results_df.to_csv(results_file_path, index=False)\n"
   ]
  },
  {
   "cell_type": "markdown",
   "metadata": {},
   "source": [
    "### Evaluation"
   ]
  },
  {
   "cell_type": "code",
   "execution_count": 38,
   "metadata": {},
   "outputs": [],
   "source": [
    "# load ground truth for the testing data\n",
    "\n",
    "test_ground_truth_file = os.path.join(data_path, 'review_test_ground_truth.csv')\n",
    "test_ground_truth_data = pd.read_csv(test_file)\n",
    "test_ground_truth_data = test_ground_truth_data.rename(columns={'user_id': 'uid', 'business_id': 'bid', 'stars': 'rating'})\n",
    "\n",
    "evaluation = test_ground_truth_data.merge(results_df, on=['uid', 'bid'])\n"
   ]
  },
  {
   "cell_type": "code",
   "execution_count": null,
   "metadata": {},
   "outputs": [],
   "source": [
    "# method 1: count the segments\n"
   ]
  },
  {
   "cell_type": "code",
   "execution_count": null,
   "metadata": {},
   "outputs": [],
   "source": [
    "# method 2: compute RMSE\n"
   ]
  }
 ],
 "metadata": {
  "kernelspec": {
   "display_name": "Python 3",
   "language": "python",
   "name": "python3"
  },
  "language_info": {
   "codemirror_mode": {
    "name": "ipython",
    "version": 3
   },
   "file_extension": ".py",
   "mimetype": "text/x-python",
   "name": "python",
   "nbconvert_exporter": "python",
   "pygments_lexer": "ipython3",
   "version": "3.6.4"
  }
 },
 "nbformat": 4,
 "nbformat_minor": 2
}
