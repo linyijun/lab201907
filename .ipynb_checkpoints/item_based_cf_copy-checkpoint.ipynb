{
 "cells": [
  {
   "cell_type": "code",
   "execution_count": 2,
   "metadata": {},
   "outputs": [],
   "source": [
    "import os\n",
    "import pandas as pd\n",
    "import numpy as np"
   ]
  },
  {
   "cell_type": "markdown",
   "metadata": {},
   "source": [
    "### Loading datasets"
   ]
  },
  {
   "cell_type": "code",
   "execution_count": 7,
   "metadata": {},
   "outputs": [],
   "source": [
    "data_path = '/Users/yijunlin/PycharmProjects/recommendation_system/data/'\n",
    "\n",
    "# define file path\n",
    "train_file = os.path.join(data_path, 'review_train.csv')\n",
    "test_file = os.path.join(data_path, 'review_test.csv')\n",
    "weight_matrix_file = os.path.join(data_path, 'weight_matrix.csv')\n"
   ]
  },
  {
   "cell_type": "code",
   "execution_count": 8,
   "metadata": {},
   "outputs": [],
   "source": [
    "# read datasets\n",
    "train_data = pd.read_csv(train_file)\n",
    "test_data = pd.read_csv(test_file)\n",
    "weight_matrix = pd.read_csv(weight_matrix_file)\n",
    "\n",
    "# change the column name\n",
    "train_data = train_data.rename(columns={'user_id': 'uid', 'business_id': 'bid', 'stars': 'rating'})\n",
    "test_data = test_data.rename(columns={'user_id': 'uid', 'business_id': 'bid'})\n"
   ]
  },
  {
   "cell_type": "markdown",
   "metadata": {},
   "source": [
    "### Item-based CF Prediction"
   ]
  },
  {
   "cell_type": "code",
   "execution_count": 33,
   "metadata": {},
   "outputs": [],
   "source": [
    "# convert the review data into a dictionary {(uid, bid): rating}\n",
    "review_dict = {(row[0], row[1]): row[2] for row in train_data.values.tolist()}\n",
    "\n",
    "# map each user_id to a list of business {user_id: list[business_ids]}\n",
    "user_groups = train_data.groupby('uid')\n",
    "user_business_dict = {uid: list(user_groups.get_group(uid)['bid']) for uid in user_groups.groups}\n",
    "\n",
    "# transfer weight_matrix to a dictionary {(bid1, bid2): weight}\n",
    "weight_matrix_dict = {(row[0], row[1]): row[2] for row in weight_matrix.values.tolist()}\n"
   ]
  },
  {
   "cell_type": "code",
   "execution_count": 34,
   "metadata": {},
   "outputs": [],
   "source": [
    "# find the most N correlated business according to the weight matrix\n",
    "\n",
    "def find_n_nearest_business(target_bid, neighbor_business, n=3):\n",
    "    \n",
    "    neighbor_business_weight = {}\n",
    "    \n",
    "    for bid in neighbor_business:\n",
    "        b_pair = tuple(sorted([target_bid, bid]))\n",
    "        if weight_matrix_dict.get(b_pair):\n",
    "            neighbor_business_weight[bid] = weight_matrix_dict[b_pair]\n",
    "            \n",
    "    sorted_neighbor_business_weight = sorted(neighbor_business_weight.items(), key=lambda kv: kv[1], reverse=True)\n",
    "\n",
    "    if len(sorted_neighbor_business_weight) >= n: \n",
    "        return sorted_neighbor_business_weight[:n]\n",
    "    else:\n",
    "        return sorted_neighbor_business_weight\n"
   ]
  },
  {
   "cell_type": "code",
   "execution_count": 35,
   "metadata": {},
   "outputs": [],
   "source": [
    "# compute weighted average over neighborhood set\n",
    "\n",
    "def weighted_average_prediction(target_user, target_business, nearest_business):\n",
    "    \n",
    "    w_list, r_list = [], []\n",
    "\n",
    "    for item in nearest_business:\n",
    "        \n",
    "        bid, weight = item[0], item[1]\n",
    "        weighted_rating = review_dict[(target_user, bid)] * weight\n",
    "        w_list.append(weight)\n",
    "        r_list.append(weighted_rating)\n",
    "\n",
    "    weighted_sum = sum([w_list[i] * r for i, r in enumerate(r_list)]) if len(r_list) > 0 else 0.0\n",
    "    sum_weight = sum([abs(x) for x in w_list]) if len(w_list) > 0 else 0.0\n",
    "    prediction = weighted_sum / sum_weight if sum_weight != 0.0 else 0.0\n",
    "    \n",
    "    return prediction\n"
   ]
  },
  {
   "cell_type": "code",
   "execution_count": 36,
   "metadata": {},
   "outputs": [],
   "source": [
    "# make prediction for each given (user, business) pair in the testing data\n",
    "\n",
    "results = []\n",
    "\n",
    "for pair in test_data.values.tolist():\n",
    "    \n",
    "    target_user, target_business = pair[0], pair[1]\n",
    "    neighbor_business = user_business_dict.get(target_user)\n",
    "    \n",
    "    if neighbor_business:\n",
    "        \n",
    "        nearest_business = find_n_nearest_business(target_business, neighbor_business)\n",
    "        prediction = weighted_average_prediction(target_user,target_business, nearest_business)\n",
    "        results.append([target_user, target_business, prediction])\n",
    "    \n",
    "    else:  # cannot do the prediction if a user never appears in training data => cold start problem\n",
    "        results.append([target_user, target_business, 0.0])\n"
   ]
  },
  {
   "cell_type": "code",
   "execution_count": null,
   "metadata": {},
   "outputs": [],
   "source": [
    "# finalize the results\n",
    "# fill the missing predictions with average values\n",
    "\n",
    "avg_rating = sum(list(train_data['rating'])) / len(train_data)\n",
    "\n",
    "def quick_check(x):\n",
    "    if x > 5:\n",
    "        return 5.0\n",
    "    elif x < 1:\n",
    "        return 1.0\n",
    "    else:\n",
    "        return x\n",
    "\n",
    "final_results = []\n",
    "\n",
    "for result in results:\n",
    "    uid, bid, prediction = result[0], result[1], result[2]\n",
    "    prediction = avg_rating if prediction == 0.0 else prediction\n",
    "    prediction = quick_check(prediction)\n",
    "    final_results.append([uid, bid, prediction])\n"
   ]
  },
  {
   "cell_type": "code",
   "execution_count": 37,
   "metadata": {},
   "outputs": [],
   "source": [
    "# write the results to a CSV file\n",
    "\n",
    "results_df = pd.DataFrame(final_results, columns=['uid', 'bid', 'prediction'])\n",
    "results_file_path = os.path.join(data_path, 'review_prediction.csv')\n",
    "results_df.to_csv(results_file_path, index=False)\n"
   ]
  },
  {
   "cell_type": "code",
   "execution_count": null,
   "metadata": {},
   "outputs": [],
   "source": []
  },
  {
   "cell_type": "code",
   "execution_count": null,
   "metadata": {},
   "outputs": [],
   "source": [
    "data_path = './data'\n",
    "\n",
    "# define file path\n",
    "review_file = os.path.join(data_path, 'review_train.csv')\n",
    "business_file = os.path.join(data_path, 'sub_business.csv')\n",
    "\n",
    "review_data = pd.read_csv(review_file)\n",
    "business_data = pd.read_csv(business_file)\n",
    "\n",
    "output_review = agg_review.merge(business_data, on='bid')\n"
   ]
  }
 ],
 "metadata": {
  "kernelspec": {
   "display_name": "Python 3",
   "language": "python",
   "name": "python3"
  },
  "language_info": {
   "codemirror_mode": {
    "name": "ipython",
    "version": 3
   },
   "file_extension": ".py",
   "mimetype": "text/x-python",
   "name": "python",
   "nbconvert_exporter": "python",
   "pygments_lexer": "ipython3",
   "version": "3.6.4"
  }
 },
 "nbformat": 4,
 "nbformat_minor": 2
}
