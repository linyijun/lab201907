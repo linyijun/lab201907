{
 "cells": [
  {
   "cell_type": "code",
   "execution_count": 1,
   "metadata": {},
   "outputs": [],
   "source": [
    "import time\n",
    "import os\n",
    "import pandas as pd\n",
    "import numpy as np"
   ]
  },
  {
   "cell_type": "markdown",
   "metadata": {},
   "source": [
    "### Loading training and testing review data"
   ]
  },
  {
   "cell_type": "code",
   "execution_count": 2,
   "metadata": {},
   "outputs": [],
   "source": [
    "data_path = './data/'\n",
    "\n",
    "# define file path\n",
    "train_file = os.path.join(data_path, 'review_train.csv')\n",
    "\n",
    "# read datasets\n",
    "train_data = pd.read_csv(train_file)\n"
   ]
  },
  {
   "cell_type": "markdown",
   "metadata": {},
   "source": [
    "### Generating business pairs for the Pearson correlation"
   ]
  },
  {
   "cell_type": "code",
   "execution_count": 3,
   "metadata": {},
   "outputs": [],
   "source": [
    "# notice that the similarity of (item1, item2) is the same as (item2, item1)\n",
    "# reduce the number of pairs in order to reduce the computation\n",
    "\n",
    "businesses = list(set(train_data['bid']))\n",
    "business_pairs = []\n",
    "\n",
    "for i in range(len(businesses)):\n",
    "    for j in range((i + 1), len(businesses)):\n",
    "        business_pairs.append(sorted([businesses[i], businesses[j]]))\n",
    "    "
   ]
  },
  {
   "cell_type": "code",
   "execution_count": 4,
   "metadata": {},
   "outputs": [
    {
     "data": {
      "text/plain": [
       "[['AE-1mzUBcBuC5QkwlX24BQ', 'Qor28v4BlhSwtN8DSvah9g'],\n",
       " ['AE-1mzUBcBuC5QkwlX24BQ', 'oXoVJ0xKv82cBo9U6oEjlQ'],\n",
       " ['AE-1mzUBcBuC5QkwlX24BQ', 'VOAO6ip7GwK4McQZbRa60g'],\n",
       " ['AE-1mzUBcBuC5QkwlX24BQ', 'BjLXhrKdB3I3f3ODy0INRw'],\n",
       " ['AE-1mzUBcBuC5QkwlX24BQ', 'xYonRlhqbwdHLhPs1PLdCg']]"
      ]
     },
     "execution_count": 4,
     "metadata": {},
     "output_type": "execute_result"
    }
   ],
   "source": [
    "business_pairs[:5]"
   ]
  },
  {
   "cell_type": "markdown",
   "metadata": {},
   "source": [
    "### Computing the weight matrix (Pearson similarity)"
   ]
  },
  {
   "cell_type": "code",
   "execution_count": 5,
   "metadata": {},
   "outputs": [],
   "source": [
    "# convert the review data into a dictionary {(uid, bid): rating}\n",
    "review_dict = {(row[0], row[1]): row[2] for row in train_data.values.tolist()}\n",
    "\n",
    "# map each business_id to a list of users rated on that {business_id: list[user_ids]}\n",
    "business_groups = train_data.groupby('bid')\n",
    "business_user_dict = {bid: list(business_groups.get_group(bid)['uid']) for bid in business_groups.groups}\n"
   ]
  },
  {
   "cell_type": "code",
   "execution_count": 6,
   "metadata": {},
   "outputs": [],
   "source": [
    "# define a function to find common (co-rated) user list for two given businesses\n",
    "\n",
    "def find_co_rated_users(bid_1, bid_2):\n",
    "        \n",
    "    user_list_1 = business_user_dict.get(bid_1, [])\n",
    "    user_list_2 = business_user_dict.get(bid_2, [])\n",
    "    co_rated_users = list(set(user_list_1).intersection(set(user_list_2)))\n",
    "    return co_rated_users\n"
   ]
  },
  {
   "cell_type": "code",
   "execution_count": 7,
   "metadata": {},
   "outputs": [],
   "source": [
    "# define a function to compute Pearson correlation\n",
    "\n",
    "import math\n",
    "\n",
    "def compute_pearson_correlation(rating_list_1, rating_list_2):\n",
    "\n",
    "    n_ele = len(rating_list_1)\n",
    "    avg_rating_1 = float(sum(rating_list_1))/float(len(rating_list_1))\n",
    "    avg_rating_2 = float(sum(rating_list_2))/float(len(rating_list_2))\n",
    "\n",
    "    var_star_1 = [x - avg_rating_1 for x in rating_list_1]\n",
    "    var_star_2 = [x - avg_rating_2 for x in rating_list_2]\n",
    "    weight_sum, weight_1, weight_2 = 0.0, 0.0, 0.0\n",
    "\n",
    "    for i in range(n_ele):\n",
    "        weight_sum += var_star_1[i] * var_star_2[i]\n",
    "        weight_1 += var_star_1[i] * var_star_1[i]\n",
    "        weight_2 += var_star_2[i] * var_star_2[i]\n",
    "\n",
    "    if weight_1 == 0.0 or weight_2 == 0.0:\n",
    "        return 0.0\n",
    "    else:\n",
    "        return weight_sum / math.sqrt(weight_1) / math.sqrt(weight_2)\n",
    "\n"
   ]
  },
  {
   "cell_type": "code",
   "execution_count": 8,
   "metadata": {},
   "outputs": [
    {
     "name": "stdout",
     "output_type": "stream",
     "text": [
      "Time for computing weight matrix = 21.724812984466553.\n"
     ]
    }
   ],
   "source": [
    "# compute the Pearson correlation for each business pair\n",
    "\n",
    "import time\n",
    "\n",
    "weight_matrix = []\n",
    "PEARSON_THRED = 0.1\n",
    "\n",
    "start_time = time.time()\n",
    "\n",
    "for pair in business_pairs:\n",
    "    \n",
    "    bid_1, bid_2 = pair[0], pair[1]\n",
    "    \n",
    "    # fine the co-rated users\n",
    "    co_rated_users = find_co_rated_users(bid_1, bid_2) \n",
    "    \n",
    "    if len(co_rated_users) <= 1:\n",
    "        continue\n",
    "    \n",
    "    # get the rating list of the co-rated users\n",
    "    rating_list_1 = [review_dict[(u, bid_1)]for u in co_rated_users]\n",
    "    rating_list_2 = [review_dict[(u, bid_2)] for u in co_rated_users]\n",
    "\n",
    "    # compute the Pearson correlation\n",
    "    weight = compute_pearson_correlation(rating_list_1, rating_list_2)\n",
    "\n",
    "    if weight > PEARSON_THRED:  # you can set some threshold to filter the low correlated values\n",
    "        weight_matrix.append([bid_1, bid_2, weight])\n",
    "\n",
    "print('Time for computing weight matrix = {}.'.format(time.time() - start_time))\n"
   ]
  },
  {
   "cell_type": "code",
   "execution_count": 9,
   "metadata": {},
   "outputs": [
    {
     "data": {
      "text/plain": [
       "[['AE-1mzUBcBuC5QkwlX24BQ', 'ZAuAwz1ijuydn5yL3q3rzA', 0.5976143046671968],\n",
       " ['AE-1mzUBcBuC5QkwlX24BQ', 'ysv6yhVYOoH9Pf7PlMyD0g', 0.9999999999999999],\n",
       " ['AE-1mzUBcBuC5QkwlX24BQ', 'xEH00X_VoRepWKXQrragmw', 0.9999999999999999],\n",
       " ['AE-1mzUBcBuC5QkwlX24BQ', 'zwNC-Ow4eIMan2__bS9-rg', 1.0000000000000002],\n",
       " ['3BCsAgo_1i4xMuTyLKMLRQ', 'AE-1mzUBcBuC5QkwlX24BQ', 0.29172998299578906]]"
      ]
     },
     "execution_count": 9,
     "metadata": {},
     "output_type": "execute_result"
    }
   ],
   "source": [
    "weight_matrix[:5]"
   ]
  },
  {
   "cell_type": "code",
   "execution_count": 10,
   "metadata": {},
   "outputs": [],
   "source": [
    "# write the results to a CSV file\n",
    "\n",
    "weight_matrix_df = pd.DataFrame(weight_matrix, columns=['bid1', 'bid2', 'corr'])\n",
    "weight_matrix_file_path = os.path.join(data_path, 'weight_matrix.csv')\n",
    "weight_matrix_df.to_csv(weight_matrix_file_path, index=False)\n"
   ]
  },
  {
   "cell_type": "code",
   "execution_count": null,
   "metadata": {},
   "outputs": [],
   "source": []
  },
  {
   "cell_type": "code",
   "execution_count": null,
   "metadata": {},
   "outputs": [],
   "source": []
  }
 ],
 "metadata": {
  "kernelspec": {
   "display_name": "Python 3",
   "language": "python",
   "name": "python3"
  },
  "language_info": {
   "codemirror_mode": {
    "name": "ipython",
    "version": 3
   },
   "file_extension": ".py",
   "mimetype": "text/x-python",
   "name": "python",
   "nbconvert_exporter": "python",
   "pygments_lexer": "ipython3",
   "version": "3.6.4"
  }
 },
 "nbformat": 4,
 "nbformat_minor": 2
}
